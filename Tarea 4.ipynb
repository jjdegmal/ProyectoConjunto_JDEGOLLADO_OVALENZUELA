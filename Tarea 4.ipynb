{
 "cells": [
  {
   "cell_type": "markdown",
   "metadata": {},
   "source": [
    "<img style=\"float: left; margin: 30px 15px 15px 15px;\" src=\"https://pngimage.net/wp-content/uploads/2018/06/logo-iteso-png-5.png\" width=\"300\" height=\"500\" /> \n",
    "    \n",
    "    \n",
    "### <font color='navy'> Simulación de procesos financieros. \n",
    "\n",
    "**Nombres:** José Jorge Degollado Maldonado, Osckar Valenzuela Cervantes\n",
    "\n",
    "**Fecha:** 11 de marzo del 2023.\n",
    "\n",
    "**Expediente** : 729299.\n",
    "**Profesor:** Oscar David Jaramillo Zuluaga.\n",
    "    \n",
    "**Link Github**: Link con el enlace del repositorio del creador del proyecto\n",
    "\n",
    "# Tarea 4: Clase X"
   ]
  },
  {
   "cell_type": "markdown",
   "metadata": {},
   "source": [
    "## Enunciado de tarea (Transcibirlo)\n",
    "> Descripción de la tarea"
   ]
  },
  {
   "cell_type": "markdown",
   "metadata": {},
   "source": [
    "### Ejercicio 1: (enunciado) Transcribirlo"
   ]
  },
  {
   "cell_type": "markdown",
   "metadata": {},
   "source": [
    ">### <font color ='red'> **Tarea 4 (parte 1)** \n",
    "    \n",
    "> Para las siguiente dos funciones, genere muestres aleatorias que distribuyan según la función dada usando el método de la transformada inversa y grafique el histograma de 1000 muestras generadas con el método de la transformada inversa y compárela con el función $f(x)$ **(recuerde que $f(x)$ es la distribución de probabilidad y $F(x)$ es la distribución de probabilidad acumulada)** [ver este enlace para más información](https://es.wikipedia.org/wiki/Funci%C3%B3n_de_distribuci%C3%B3n). Este procedimiento se realiza con el fín de validar que el procedimiento y los resultados son correctos.\n",
    "    \n",
    "> 1. Generación variable aleatoria continua\n",
    ">El tiempo en el cual un movimiento browniano se mantiene sobre su punto máximo en el intervalo [0,1] tiene una distribución\n",
    ">$$F(x)=\\frac{2}{\\pi}\\sin^{-1}(\\sqrt x),\\quad 0\\leq x\\leq 1$$ </font>\n",
    "\n",
    "> 2. Generación variable aleatoria Discreta\n",
    "> La distribución binomial modela el número de éxitos de n ensayos independientes donde hay una probabilidad p de éxito en cada ensayo.\n",
    "> Generar una variable aletoria binomial con parámetros $n=10$ y $p=0.7$. Recordar que $$X\\sim binomial(n,p) \\longrightarrow p_i=P(X=i)=\\frac{n!}{i!(n-i)!}p^i(1-p)^{n-i},\\quad i=0,1,\\cdots,n$$\n",
    "> Por propiedades de la operación factorial la anterior $p_i$ se puede escribir como:\n",
    "> $$p_{i+1}=\\frac{n-i}{i+1}\\frac{p}{1-p} p_i $$\n",
    "\n",
    "> **Nota:** Por notación recuerde que para el caso continuo $f(x)$ es la distribución de probabilidad (PDF), mientras $F(x)$ corresponde a la distribución de probabilidad acumulada (CDF). Para el caso discreto, $P(X=i)$ corresponde a su distribución de probabilidad (PMF) y $ F_{X}(x)=\\operatorname {P} (X\\leq x)=\\sum _{x_{i}\\leq x}\\operatorname {P} (X=x_{i})=\\sum _{x_{i}\\leq x}p(x_{i})$, corresponde a su distribución de probabilidad acumulada (CDF)."
   ]
  },
  {
   "cell_type": "markdown",
   "metadata": {},
   "source": [
    "> ## <font color ='red'>Tarea 4 (parte 2)\n",
    "Seguir un procedimiento similar al mostrado cuando se generó una distribución binomial, pero en esta caso genere un código que genere variables aletorias Poisson cuya función de distribución de probabilidad esta dada por:\n",
    ">$$P(k,\\lambda)=\\frac{e^{-\\lambda}(\\lambda)^k}{k!}$$\n",
    "    \n",
    "> Demuestre matemáticamente que \n",
    "> $$P(k+1)=\\frac{\\lambda}{k+1}P(k)$$\n",
    "> y a partir de esta relación genere variables aletorias que distribuyen poisson usando el método de la transformada inversa.\n",
    "\n",
    "Enlace: https://es.wikipedia.org/wiki/Distribuci%C3%B3n_de_Poisson"
   ]
  },
  {
   "cell_type": "markdown",
   "metadata": {},
   "source": [
    "$\n",
    "\\begin{aligned}\n",
    "\\frac{p_{k+1}}{p_k}& = \\frac{e^{-\\lambda}(\\lambda)^k}{k!} \\\\\n",
    "& = \\frac{e^{-\\lambda}(\\lambda)^k}{k!}\n",
    "\\end{aligned}\n",
    "$"
   ]
  },
  {
   "cell_type": "markdown",
   "metadata": {},
   "source": [
    "Código de solución estudiante 1"
   ]
  },
  {
   "cell_type": "markdown",
   "metadata": {},
   "source": [
    "### Parte 1\n",
    "\n",
    "Generación de variable aleatoria continua:\n",
    "\n",
    "Para generar muestras aleatorias que distribuyen según la función dada $F(x)$, podemos aplicar el método de la transformada inversa, que consiste en obtener la función inversa de la función de distribución acumulada $F^{-1}(u)$, donde $u$ es una variable aleatoria uniforme en el intervalo [0,1]. Entonces, si generamos una muestra $u$ y calculamos su transformada inversa $F^{-1}(u)$, obtendremos una muestra que distribuye según la función $F(x)$ dada.\n",
    "\n",
    "En este caso, la función de distribución acumulada $F(x)$ está dada por:\n",
    "\n",
    "$$F(x)=\\frac{2}{\\pi}\\sin^{-1}(\\sqrt x),\\quad 0\\leq x\\leq 1$$\n",
    "\n",
    "Para obtener su función inversa, podemos despejar $x$ de la ecuación y obtener:\n",
    "\n",
    "$$x = \\sin^2(\\frac{\\pi}{2}u)^2$$\n"
   ]
  },
  {
   "cell_type": "code",
   "execution_count": 1,
   "metadata": {
    "scrolled": true
   },
   "outputs": [
    {
     "name": "stderr",
     "output_type": "stream",
     "text": [
      "<ipython-input-1-b3d6fa893cd9>:16: RuntimeWarning: divide by zero encountered in true_divide\n",
      "  f = 2/np.pi/np.sqrt(x_grid*(1-x_grid))\n"
     ]
    },
    {
     "data": {
      "image/png": "[encoded data removed]",
      "text/plain": [
       "<Figure size 432x288 with 1 Axes>"
      ]
     },
     "metadata": {
      "needs_background": "light"
     },
     "output_type": "display_data"
    }
   ],
   "source": [
    "import numpy as np\n",
    "import matplotlib.pyplot as plt\n",
    "\n",
    "# Función inversa de la distribución acumulada F(x)\n",
    "def inv_F(u):\n",
    "    return np.sin(np.pi/2*np.sqrt(u))**2\n",
    "\n",
    "# Generar una muestra aleatoria de tamaño 1000\n",
    "u = np.random.rand(1000)\n",
    "x = inv_F(u)\n",
    "\n",
    "# Graficar el histograma de la muestra generada\n",
    "plt.hist(x, bins=30, density=True, alpha=0.7, label='Histograma de la muestra')\n",
    "\n",
    "# Graficar la función de distribución de probabilidad f(x)\n",
    "x_grid = np.linspace(0, 1, 100)\n",
    "f = 2/np.pi/np.sqrt(x_grid*(1-x_grid))\n",
    "plt.plot(x_grid, f, 'r', label='Función de distribución de probabilidad')\n",
    "plt.legend()\n",
    "plt.show()\n"
   ]
  },
  {
   "cell_type": "code",
   "execution_count": null,
   "metadata": {},
   "outputs": [],
   "source": []
  },
  {
   "cell_type": "markdown",
   "metadata": {},
   "source": [
    "Código de solución estudiante 2"
   ]
  },
  {
   "cell_type": "code",
   "execution_count": null,
   "metadata": {},
   "outputs": [],
   "source": [
    "# Código de solución estudiante 2\n",
    ".\n",
    ".\n",
    ".\n",
    ".\n"
   ]
  },
  {
   "cell_type": "markdown",
   "metadata": {},
   "source": [
    "### Respuesta planteada en el ejercicio usando (markdown)\n",
    " La respuesta es ........."
   ]
  }
 ],
 "metadata": {
  "kernelspec": {
   "display_name": "Python 3",
   "language": "python",
   "name": "python3"
  },
  "language_info": {
   "codemirror_mode": {
    "name": "ipython",
    "version": 3
   },
   "file_extension": ".py",
   "mimetype": "text/x-python",
   "name": "python",
   "nbconvert_exporter": "python",
   "pygments_lexer": "ipython3",
   "version": "3.8.5"
  }
 },
 "nbformat": 4,
 "nbformat_minor": 2
}
